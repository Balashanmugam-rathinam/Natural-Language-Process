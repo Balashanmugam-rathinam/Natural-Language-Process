{
 "cells": [
  {
   "cell_type": "code",
   "execution_count": null,
   "metadata": {},
   "outputs": [],
   "source": [
    "#Tokenization"
   ]
  },
  {
   "cell_type": "code",
   "execution_count": 4,
   "metadata": {},
   "outputs": [
    {
     "name": "stdout",
     "output_type": "stream",
     "text": [
      "['runner', 'run', 'run']\n",
      "<PorterStemmer>\n"
     ]
    }
   ],
   "source": [
    "from nltk import PorterStemmer            # Import the PorterStemmer class from nltk (used for stemming words)\n",
    "from nltk.tokenize import word_tokenize   # Import word_tokenize function for splitting text into words\n",
    "stemmer = PorterStemmer()                 # Create an instance of the PorterStemmer\n",
    "text = \"runner running runs\"              # Define a string containing the words to be stemmed\n",
    "word = word_tokenize(text)                # Tokenize the string into a list of individual words (tokens)\n",
    "print([stemmer.stem(words) for words in word])   # Apply the stemmer to each word in the list and print the resulting list of stemmed words\n",
    "print(stemmer)                                   # Print the stemmer object itself (this just shows the instance info, usually not needed                                     "
   ]
  }
 ],
 "metadata": {
  "kernelspec": {
   "display_name": "Python 3",
   "language": "python",
   "name": "python3"
  },
  "language_info": {
   "codemirror_mode": {
    "name": "ipython",
    "version": 3
   },
   "file_extension": ".py",
   "mimetype": "text/x-python",
   "name": "python",
   "nbconvert_exporter": "python",
   "pygments_lexer": "ipython3",
   "version": "3.7.1"
  }
 },
 "nbformat": 4,
 "nbformat_minor": 2
}
