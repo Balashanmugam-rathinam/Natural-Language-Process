{
 "cells": [
  {
   "cell_type": "code",
   "execution_count": null,
   "metadata": {},
   "outputs": [],
   "source": [
    "#TOKENIZATION"
   ]
  },
  {
   "cell_type": "code",
   "execution_count": 8,
   "metadata": {},
   "outputs": [
    {
     "name": "stdout",
     "output_type": "stream",
     "text": [
      "Token: ['Learning', 'NLP', 'is', 'fun']\n"
     ]
    },
    {
     "name": "stderr",
     "output_type": "stream",
     "text": [
      "[nltk_data] Downloading package punkt to\n",
      "[nltk_data]     C:\\Users\\2mscds06\\AppData\\Roaming\\nltk_data...\n",
      "[nltk_data]   Package punkt is already up-to-date!\n"
     ]
    }
   ],
   "source": [
    "import nltk                                # Import the Natural Language Toolkit library\n",
    "from nltk.tokenize import word_tokenize    # Import the word_tokenize function for splitting text into words\n",
    "nltk.download('punkt')                     # Download the 'punkt' tokenizer models (required for word_tokenize to work)\n",
    "text = \"Learning NLP is fun\"               # Define a string variable containing the sentence to tokenize\n",
    "token = word_tokenize(text)                # Tokenize the sentence into individual words (tokens)\n",
    "print('Token:', token)                     # Print the list of tokens to the console\n"
   ]
  },
  {
   "cell_type": "code",
   "execution_count": null,
   "metadata": {},
   "outputs": [],
   "source": []
  }
 ],
 "metadata": {
  "kernelspec": {
   "display_name": "Python 3",
   "language": "python",
   "name": "python3"
  },
  "language_info": {
   "codemirror_mode": {
    "name": "ipython",
    "version": 3
   },
   "file_extension": ".py",
   "mimetype": "text/x-python",
   "name": "python",
   "nbconvert_exporter": "python",
   "pygments_lexer": "ipython3",
   "version": "3.7.1"
  }
 },
 "nbformat": 4,
 "nbformat_minor": 2
}
